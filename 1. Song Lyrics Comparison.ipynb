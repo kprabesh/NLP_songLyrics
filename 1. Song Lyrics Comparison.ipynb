{
 "cells": [
  {
   "cell_type": "markdown",
   "metadata": {},
   "source": [
    "# Most Popular Rap singles of 2020 lyrics comparision with top trending pop song of 2017"
   ]
  },
  {
   "cell_type": "raw",
   "metadata": {},
   "source": [
    "This notebook will walk you through web scraping in order to gather data from various sources. The primary purpose of this notebook is to establish some understanding for the direction of hiphop music on the basis of song content."
   ]
  },
  {
   "cell_type": "markdown",
   "metadata": {},
   "source": [
    "# 1. Web Scraping"
   ]
  },
  {
   "cell_type": "code",
   "execution_count": 1,
   "metadata": {},
   "outputs": [],
   "source": [
    "#web scraping, pickle imports\n",
    "import requests\n",
    "from bs4 import BeautifulSoup\n",
    "import pickle\n",
    "\n",
    "# Scrapes transcript data from www.genius.com\n",
    "def url_to_lyrics(url):\n",
    "    '''Returns lyrics data specifically from genius.com.'''\n",
    "    page = requests.get(url).text\n",
    "    soup = BeautifulSoup(page, \"lxml\")\n",
    "    text = [p.text for p in soup.find(class_=\"lyrics\").find_all('p')]\n",
    "    print(url)\n",
    "    return text\n",
    "\n",
    "#URLs in scope\n",
    "urls=['https://genius.com/Westside-gunn-327-lyrics',\n",
    "      'https://genius.com/Ab-soul-dangerookipawaa-freestyle-lyrics',\n",
    "      'https://genius.com/Cj-fly-block-party-lyrics',\n",
    "      'https://genius.com/Kid-cudi-leader-of-the-delinquents-lyrics',\n",
    "      'https://genius.com/Ed-sheeran-shape-of-you-lyrics',\n",
    "      'https://genius.com/Genius-english-translations-cardi-b-bad-bunny-and-j-balvin-i-like-it-english-translation-lyrics',\n",
    "      'https://genius.com/Lil-nas-x-old-town-road-remix-lyrics'\n",
    "]\n",
    "\n",
    "songs=['327','Dangerookipawaa freestyle','Block Party','Leader of Delinquents','Shape of you','I like it','Old town road']"
   ]
  },
  {
   "cell_type": "code",
   "execution_count": 2,
   "metadata": {
    "scrolled": true
   },
   "outputs": [
    {
     "name": "stdout",
     "output_type": "stream",
     "text": [
      "https://genius.com/Westside-gunn-327-lyrics\n",
      "https://genius.com/Ab-soul-dangerookipawaa-freestyle-lyrics\n",
      "https://genius.com/Cj-fly-block-party-lyrics\n",
      "https://genius.com/Kid-cudi-leader-of-the-delinquents-lyrics\n",
      "https://genius.com/Ed-sheeran-shape-of-you-lyrics\n",
      "https://genius.com/Genius-english-translations-cardi-b-bad-bunny-and-j-balvin-i-like-it-english-translation-lyrics\n",
      "https://genius.com/Lil-nas-x-old-town-road-remix-lyrics\n"
     ]
    },
    {
     "data": {
      "text/plain": [
       "' calling the function for all of the listed urls'"
      ]
     },
     "execution_count": 2,
     "metadata": {},
     "output_type": "execute_result"
    }
   ],
   "source": [
    "# request.get(url) takes long to load\n",
    "# So, Pickle files for later use\n",
    "transcripts = [url_to_lyrics(u) for u in urls] \n",
    "''' calling the function for all of the listed urls'''"
   ]
  },
  {
   "cell_type": "code",
   "execution_count": 3,
   "metadata": {},
   "outputs": [
    {
     "name": "stdout",
     "output_type": "stream",
     "text": [
      "mkdir: transcripts: File exists\r\n"
     ]
    },
    {
     "data": {
      "text/plain": [
       "'makes a new directory'"
      ]
     },
     "execution_count": 3,
     "metadata": {},
     "output_type": "execute_result"
    }
   ],
   "source": [
    "!mkdir transcripts \n",
    "'''makes a new directory'''"
   ]
  },
  {
   "cell_type": "code",
   "execution_count": 4,
   "metadata": {},
   "outputs": [],
   "source": [
    "# Pickle files for later use, so avoid the loading wait time\n",
    "''' transcripts/327.txt has to be already present before executing this command'''\n",
    "import pickle\n",
    "for i, s in enumerate(songs):\n",
    "    with open(\"transcripts/\"+s+\".txt\",\"wb\") as file:\n",
    "        pickle.dump(transcripts[i], file)\n"
   ]
  },
  {
   "cell_type": "code",
   "execution_count": 5,
   "metadata": {},
   "outputs": [],
   "source": [
    "# Load pickle files\n",
    "import pickle\n",
    "data={} #dictionary where we will be storing values and assigning keys\n",
    "for i, s in enumerate(songs):\n",
    "    with open (\"transcripts/\"+s+\".txt\",\"rb\") as file:\n",
    "        data[s]=pickle.load(file)"
   ]
  },
  {
   "cell_type": "code",
   "execution_count": 6,
   "metadata": {},
   "outputs": [
    {
     "data": {
      "text/plain": [
       "dict_keys(['327', 'Dangerookipawaa freestyle', 'Block Party', 'Leader of Delinquents', 'Shape of you', 'I like it', 'Old town road'])"
      ]
     },
     "execution_count": 6,
     "metadata": {},
     "output_type": "execute_result"
    }
   ],
   "source": [
    "# Check proper loading of data\n",
    "data.keys() "
   ]
  },
  {
   "cell_type": "code",
   "execution_count": 7,
   "metadata": {},
   "outputs": [
    {
     "data": {
      "text/plain": [
       "['[Intro]\\nYeah baby, I like it like that\\nYou gotta believe me when I tell you\\nI said I like it like that\\nYou gotta believe me when I tell you\\nI said I like it like—\\n\\n[Verse 1: Cardi B]\\nNow I like dollars, I like diamonds, I like stunting, I like shining\\nI like million dollar deals, where\\'s my pen? Bitch I\\'m signin\\'\\nI like those Balenciagas, the ones that look like socks\\nI like going to the jeweler, I put rocks all in my watch\\nI like texts from my exes when they want a second chance\\nI like proving niggas wrong, I do what they say I can\\'t\\nThey call me Cardi Bardi, banging body\\nSpicy mami, hot tamale\\nHotter than a Somali, fur coat, Ferrari\\nHop out the stu\\', jump in the coupe (the coupe)\\nBig Dipper on top of the roof\\nFlexing on bitches as hard as I can\\nEating halal, driving the Lam\\'\\nTold that bitch I\\'m sorry though\\n\\'Bout my coins like Mario (Mario)\\nYeah they call me Cardi B, I run this shit like cardio\\nOh, damn\\n\\n[Chorus: Cardi B]\\nDiamond district in the chain (I said I like it like that)\\nCertified, know I\\'m gang, gang, gang, gang (I said I like it like—)\\nDrop the top and blow the brains (I said I like it like that)\\nOh he\\'s so handsome, what\\'s his name? (I said I like it)\\nOh I need the dollars (I said I like it like that)\\nBeat it up like piñatas (I said I like it like—)\\nTell the driver, close the curtains (I said I like it like that)\\nBad bitch make him nervous (I said I like it)\\nCardi B\\n\\n[Verse 2: Bad Bunny]\\nThey reload, they reload, but don\\'t pull the trigger (pull the trigger!)\\nYou buy all the Jordan\\'s, fool, they gift them to me\\nI spend in the club (woo), what you have in the bank (yeh)\\nThis is the new religion, bang, in Latino gang, gang, yeh\\nI try to diet (yeh), but in the closet I got too much fat (woo!)\\nI already moved the Gucci to inside my house, yeh (woo!)\\nMotherfucker, nobody knows you, not even in Plaza (no)\\nThe Devil calls me but Jesus Christ hugs me (amen)\\nGuerrero like Eddie, long live the race (yeh)\\nI like Boricuas, I like Cubans [whistling]\\nI like the accent of the Colombians (what\\'s going on?)\\nI like how she shakes the ass the Dominican (what\\'s up?)\\nHow good they fuck me the Venezuelans (woo!)\\nWe are active, Perico Pin Pin (woo)\\nHundred dollar bills in the briefcase (ching)\\nLet the bass resound, Bobby Valentin, yeh\\nLove is forbidden here, tell them, Charytín\\nFor their itching I got Claritin\\nI arrive at the club and the riot begins\\n\\n[Chorus: Cardi B & Bad Bunny]\\nDiamond district in the chain (I said I like it like that)\\nBad Bunny, baby, be, be, be, be\\nCertified, know I\\'m gang, gang, gang, gang (I said I like it like—)\\nDrop the top and blow the brains (I said I like it like that)\\nOh, he\\'s so handsome, what\\'s his name? (I said I like it)\\nOh, I need the dollars (I said I like it like that)\\nBeat it up like piñatas (I said I like it like—)\\nTell the driver, close the curtains (I said I like it like that)\\nBad bitch make him nervous (I said I like it)\\n\\n[Verse 3: J Balvin]\\nLike Celia Cruz I got the sugar (sugar)\\nYour girl saw me and fell forward like Jimmy Snuka (ah)\\nWe gonna knock off your wig\\nAnd go to hell, motherfucker, we aren\\'t gonna pass you the hookah (hookah, hookah)\\nMy Balenciaga shoes, they receive me in the entrance (woo)\\nPa-pa-pa-pa-razzi, like I\\'m Lady Gaga (woo)\\nAnd don\\'t play dumb (hey), in covers of Billboard you have seen me (hey)\\nI don\\'t leave your head (woo)\\nEverywhere you go you have heard \"Mi Gente\"\\nI\\'m not high, I\\'m like the Testarossa (\\'rossa)\\nI\\'m the one who lives it and enjoys it (enjoys it, enjoys it)\\nThat\\'s the thing, baby that\\'s the thing (thing, thing)\\nThe one who looks suffers and the one who touches enjoys (enjoys, enjoys)\\n\\n[Bridge: J Balvin & Cardi B]\\nI said I like it like that\\nI said I like it like that (rrr)\\nI said I like it like that (woo)\\nI said I like it like that\\n\\n[Chorus: Cardi B]\\nDiamond district in the chain (I said I like it like that)\\nCertified, know I\\'m gang, gang (I said I like it like—)\\nDrop the top and blow the brains, wouh (I said I like it like that)\\nOh he\\'s so handsome, what\\'s his name? (I said I like it)']"
      ]
     },
     "execution_count": 7,
     "metadata": {},
     "output_type": "execute_result"
    }
   ],
   "source": [
    "# Second Check\n",
    "data['I like it'][:10]"
   ]
  },
  {
   "cell_type": "markdown",
   "metadata": {},
   "source": [
    "# 2. Cleaning the data"
   ]
  },
  {
   "cell_type": "raw",
   "metadata": {},
   "source": [
    "With text data we will follow common data cleaning practices, sometimes known as text-pre processing techniques.\n",
    "\n",
    "Since text data cleaning process is tedious and can last forever, we are going to follow the MVP (minimum viable product) approach - start simple and iterate. \n",
    "\n",
    "Common text-pre processing techniques:\n",
    "    1.Make all text lowercase\n",
    "    2.Remove all punctuations\n",
    "    3.Remove all numerical values\n",
    "    4.Remove common non-sensical texts\n",
    "    5.Tokenize texts\n",
    "    6.Remove stop words\n",
    "    \n",
    "Further steps:\n",
    "    1.Stemming / lemmatization\n",
    "    2.Parts of speech tagging\n",
    "    3.Create bi-grams or tri-grams\n",
    "    4.Deal with typos..."
   ]
  },
  {
   "cell_type": "code",
   "execution_count": 7,
   "metadata": {},
   "outputs": [
    {
     "data": {
      "text/plain": [
       "'327'"
      ]
     },
     "execution_count": 7,
     "metadata": {},
     "output_type": "execute_result"
    }
   ],
   "source": [
    "next(iter(data.keys())) "
   ]
  },
  {
   "cell_type": "code",
   "execution_count": 8,
   "metadata": {},
   "outputs": [
    {
     "data": {
      "text/plain": [
       "[\"[Verse 1]\\nThe club isn't the best place to find a lover\\nSo the bar is where I go\\nMe and my friends at the table doing shots\\nDrinking fast and then we talk slow\\nAnd you come over and start up a conversation with just me\\nAnd trust me I'll give it a chance now\\nTake my hand, stop, put Van the Man on the jukebox\\nAnd then we start to dance, and now I'm singing like\\n\\n[Pre-Chorus]\\nGirl, you know I want your love\\nYour love was handmade for somebody like me\\nCome on now, follow my lead\\nI may be crazy, don't mind me\\nSay, boy, let's not talk too much\\nGrab on my waist and put that body on me\\nCome on now, follow my lead\\nCome, come on now, follow my lead\\n\\n[Chorus]\\nI'm in love with the shape of you\\nWe push and pull like a magnet do\\nAlthough my heart is falling too\\nI'm in love with your body\\nAnd last night you were in my room\\nAnd now my bed sheets smell like you\\nEvery day discovering something brand new\\nI'm in love with your body\\nOh—I—oh—I—oh—I—oh—I\\nI'm in love with your body\\nOh—I—oh—I—oh—I—oh—I\\nI'm in love with your body\\nOh—I—oh—I—oh—I—oh—I\\nI'm in love with your body\\nEvery day discovering something brand new\\nI'm in love with the shape of you\\n\\n[Verse 2]\\nOne week in we let the story begin\\nWe're going out on our first date\\nYou and me are thrifty, so go all you can eat\\nFill up your bag and I fill up a plate\\nWe talk for hours and hours about the sweet and the sour\\nAnd how your family is doing okay\\nLeave and get in a taxi, then kiss in the backseat\\nTell the driver make the radio play, and I'm singing like\\n\\n[Pre-Chorus]\\nGirl, you know I want your love\\nYour love was handmade for somebody like me\\nCome on now, follow my lead\\nI may be crazy, don't mind me\\nSay, boy, let's not talk too much\\nGrab on my waist and put that body on me\\nCome on now, follow my lead\\nCome, come on now, follow my lead\\n\\n[Chorus]\\nI'm in love with the shape of you\\nWe push and pull like a magnet do\\nAlthough my heart is falling too\\nI'm in love with your body\\nAnd last night you were in my room\\nAnd now my bed sheets smell like you\\nEvery day discovering something brand new\\nI'm in love with your body\\nOh—I—oh—I—oh—I—oh—I\\nI'm in love with your body\\nOh—I—oh—I—oh—I—oh—I\\nI'm in love with your body\\nOh—I—oh—I—oh—I—oh—I\\nI'm in love with your body\\nEvery day discovering something brand new\\nI'm in love with the shape of you\\n\\n[Bridge]\\nCome on, be my baby, come on\\nCome on, be my baby, come on\\nCome on, be my baby, come on\\nCome on, be my baby, come on\\nCome on, be my baby, come on\\nCome on, be my baby, come on\\nCome on, be my baby, come on\\nCome on, be my baby, come on\\n\\n[Chorus]\\nI'm in love with the shape of you\\nWe push and pull like a magnet do\\nAlthough my heart is falling too\\nI'm in love with your body\\nLast night you were in my room\\nAnd now my bed sheets smell like you\\nEvery day discovering something brand new\\nI'm in love with your body\\nCome on, be my baby, come on\\nCome on, be my baby, come on\\nI'm in love with your body\\nCome on, be my baby, come on\\nCome on, be my baby, come on\\nI'm in love with your body\\nCome on, be my baby, come on\\nCome on, be my baby, come on\\nI'm in love with your body\\nEvery day discovering something brand new\\nI'm in love with the shape of you\"]"
      ]
     },
     "execution_count": 8,
     "metadata": {},
     "output_type": "execute_result"
    }
   ],
   "source": [
    "#next(iter(data.values()))\n",
    "data['Shape of you'][:10]"
   ]
  },
  {
   "cell_type": "code",
   "execution_count": 9,
   "metadata": {},
   "outputs": [],
   "source": [
    "#Combining all text data into a one giant string, it is easier to handle a string than a list \n",
    "\n",
    "def combine_text(list_of_text):\n",
    "    resulting_text= ''.join(list_of_text)\n",
    "    return resulting_text"
   ]
  },
  {
   "cell_type": "code",
   "execution_count": 10,
   "metadata": {},
   "outputs": [],
   "source": [
    "# calling combine_text function\n",
    "data_combined={key:[combine_text(value)] for (key,value) in data.items()}\n"
   ]
  },
  {
   "cell_type": "code",
   "execution_count": 11,
   "metadata": {},
   "outputs": [
    {
     "data": {
      "text/html": [
       "<div>\n",
       "<style scoped>\n",
       "    .dataframe tbody tr th:only-of-type {\n",
       "        vertical-align: middle;\n",
       "    }\n",
       "\n",
       "    .dataframe tbody tr th {\n",
       "        vertical-align: top;\n",
       "    }\n",
       "\n",
       "    .dataframe thead th {\n",
       "        text-align: right;\n",
       "    }\n",
       "</style>\n",
       "<table border=\"1\" class=\"dataframe\">\n",
       "  <thead>\n",
       "    <tr style=\"text-align: right;\">\n",
       "      <th></th>\n",
       "      <th>Lyrics</th>\n",
       "    </tr>\n",
       "  </thead>\n",
       "  <tbody>\n",
       "    <tr>\n",
       "      <th>327</th>\n",
       "      <td>[Chorus: Billie Essco &amp; Westside Gunn]\\nLook, I swear Paris will be prayed for (Prayed for)\\nUnreleased Off-White to...</td>\n",
       "    </tr>\n",
       "    <tr>\n",
       "      <th>Block Party</th>\n",
       "      <td>[Intro: CJ Fly]\\nStatik Selektah\\nEvery time I hear a dope bass line\\nSmell some good weed and charcoal on the grill...</td>\n",
       "    </tr>\n",
       "    <tr>\n",
       "      <th>Dangerookipawaa freestyle</th>\n",
       "      <td>[Part I]\\n\\n[Intro]\\nYeah\\nYeah\\nYeah, ayy, man, listen\\n\\n[Verse 1]\\nSoulo hold a prophecy, I got a premonition (Ye...</td>\n",
       "    </tr>\n",
       "    <tr>\n",
       "      <th>I like it</th>\n",
       "      <td>[Intro]\\nYeah baby, I like it like that\\nYou gotta believe me when I tell you\\nI said I like it like that\\nYou gotta...</td>\n",
       "    </tr>\n",
       "    <tr>\n",
       "      <th>Leader of Delinquents</th>\n",
       "      <td>[Intro]\\nMm (Yeah), mm, mm\\n(This is not a test)\\nMm (Check)\\nEasy does it (Please turn my headphones a little bit)\\...</td>\n",
       "    </tr>\n",
       "    <tr>\n",
       "      <th>Old town road</th>\n",
       "      <td>[Intro: Billy Ray Cyrus]\\nOh, oh-oh\\nOh\\n\\n[Refrain: Billy Ray Cyrus]\\nYeah, I'm gonna take my horse to the old town...</td>\n",
       "    </tr>\n",
       "    <tr>\n",
       "      <th>Shape of you</th>\n",
       "      <td>[Verse 1]\\nThe club isn't the best place to find a lover\\nSo the bar is where I go\\nMe and my friends at the table d...</td>\n",
       "    </tr>\n",
       "  </tbody>\n",
       "</table>\n",
       "</div>"
      ],
      "text/plain": [
       "                                                                                                                                            Lyrics\n",
       "327                        [Chorus: Billie Essco & Westside Gunn]\\nLook, I swear Paris will be prayed for (Prayed for)\\nUnreleased Off-White to...\n",
       "Block Party                [Intro: CJ Fly]\\nStatik Selektah\\nEvery time I hear a dope bass line\\nSmell some good weed and charcoal on the grill...\n",
       "Dangerookipawaa freestyle  [Part I]\\n\\n[Intro]\\nYeah\\nYeah\\nYeah, ayy, man, listen\\n\\n[Verse 1]\\nSoulo hold a prophecy, I got a premonition (Ye...\n",
       "I like it                  [Intro]\\nYeah baby, I like it like that\\nYou gotta believe me when I tell you\\nI said I like it like that\\nYou gotta...\n",
       "Leader of Delinquents      [Intro]\\nMm (Yeah), mm, mm\\n(This is not a test)\\nMm (Check)\\nEasy does it (Please turn my headphones a little bit)\\...\n",
       "Old town road              [Intro: Billy Ray Cyrus]\\nOh, oh-oh\\nOh\\n\\n[Refrain: Billy Ray Cyrus]\\nYeah, I'm gonna take my horse to the old town...\n",
       "Shape of you               [Verse 1]\\nThe club isn't the best place to find a lover\\nSo the bar is where I go\\nMe and my friends at the table d..."
      ]
     },
     "execution_count": 11,
     "metadata": {},
     "output_type": "execute_result"
    }
   ],
   "source": [
    "# Putting the data in pandas dataframe is optional, it can either be put in pandas df or be left as dictionary format\n",
    "import pandas as pd\n",
    "pd.set_option('max_colwidth', 120)\n",
    "data_df=pd.DataFrame.from_dict(data_combined).transpose()\n",
    "data_df.columns=['Lyrics']\n",
    "data_df=data_df.sort_index()\n",
    "data_df\n"
   ]
  },
  {
   "cell_type": "code",
   "execution_count": 12,
   "metadata": {},
   "outputs": [
    {
     "data": {
      "text/plain": [
       "\"[Intro: Billy Ray Cyrus]\\nOh, oh-oh\\nOh\\n\\n[Refrain: Billy Ray Cyrus]\\nYeah, I'm gonna take my horse to the old town road\\nI'm gonna ride 'til I can't no more\\nI'm gonna take my horse to the old town road\\nI'm gonna ride 'til I can't no more\\n(Kio, Kio)\\n\\n[Verse 1: Lil Nas X]\\nI got the horses in the back\\nHorse tack is attached\\nHat is matte black\\nGot the boots that's black to match\\nRidin' on a horse, ha\\nYou can whip your Porsche\\nI been in the valley\\nYou ain't been up off that porch, now\\n\\n[Chorus: Lil Nas X]\\nCan't nobody tell me nothin'\\nYou can't tell me nothin'\\nCan't nobody tell me nothin'\\nYou can't tell me nothin'\\n\\n[Verse 2: Lil Nas X]\\nRidin' on a tractor\\nLean all in my bladder\\nCheated on my baby\\nYou can go and ask her\\nMy life is a movie\\nBull ridin' and boobies\\nCowboy hat from Gucci\\nWrangler on my booty\\n\\n[Chorus: Lil Nas X]\\nCan't nobody tell me nothin'\\nYou can't tell me nothin'\\nCan't nobody tell me nothin'\\nYou can't tell me nothin'\\n\\n[Refrain: Lil Nas X]\\nYeah, I'm gonna take my horse to the old town road\\nI'm gonna ride 'til I can't no more\\nI'm gonna take my horse to the old town road\\nI'm gonna ride 'til I can't no more\\n\\n[Verse 3: Billy Ray Cyrus]\\nHat down, cross town, livin' like a rockstar\\nSpent a lot of money on my brand new guitar\\nBaby's got a habit: diamond rings and Fendi sports bras\\nRidin' down Rodeo in my Maserati sports car\\nGot no stress, I've been through all that\\nI'm like a Marlboro Man so I kick on back\\nWish I could roll on back to that old town road\\nI wanna ride 'til I can't no more\\n\\n[Outro: Lil Nas X & Billy Ray Cyrus]\\nYeah, I'm gonna take my horse to the old town road\\nI'm gonna ride 'til I can't no more\\nI'm gonna take my horse to the old town road\\nI'm gonna ride 'til I can't no more\""
      ]
     },
     "execution_count": 12,
     "metadata": {},
     "output_type": "execute_result"
    }
   ],
   "source": [
    "#Take a look at lyrics for Shape of you\n",
    "data_df.Lyrics.loc['Old town road']"
   ]
  },
  {
   "cell_type": "code",
   "execution_count": 13,
   "metadata": {},
   "outputs": [
    {
     "data": {
      "text/plain": [
       "'[Chorus: Billie Essco & Westside Gunn]\\nLook, I swear Paris will be prayed for (Prayed for)\\nUnreleased Off-White to the ankles, ayy\\u2005(Ankles)\\nI\\'m\\u2005in them places\\u2005that you can\\'t go (That you\\u2005can\\'t go)\\nDon C, Nigo in the same row, ayy (The same row)\\nI swear Paris will be prayed for\\nI need Casablanca by the caseload (Caseload, brr)\\nSilks with the oranges and the mangoes (Mangoes)\\nI\\'m a model now, baby, got the face for it, ayy (Face for it)\\nI swear Paris will be prayed for (Ayy, yo)\\n\\n[Verse 1: Westside Gunn]\\nI\\'m rockin\\' old Nashes, on the runway in my coke fashion\\nAnybody move, we toe-taggin\\' (Boom, boom, boom, boom, boom, boom, boom, boom, boom)\\nMy 327s was blessings, leather Vuitton vests\\nKeep a loaded firearm in Mercedes armrests, Lord stressin\\' (Skrrt)\\nTwenty-two with grays, twenty-five left in the cage\\nI told him hold your head, it\\'s worse in a grave\\nI threw coke in the pot, watched it bloom residue and consume\\nHe started wavin\\', had a lighter and dope spoon\\nA nigga try to kill you for your recipe\\nMy shooter nasal drip flowin\\' heavily, duckin\\' my third felony (Ah)\\nTake your shine, two for five, me and mines\\nRunnin\\' from suit and ties, you say you the flyest, then who am I?\\nBalenciaga with the heel, lemonade a popular drink still\\nVLONE jean jacket rockin\\', so be real (Ah)\\nOver pots, I\\'m too exquisite\\nOn the dancefloor tryna finger fuck on every visit\\nSome niggas\\'ll never risk it\\nHoppin\\' in BMs, I\\'m proud of my position (Skrrt)\\nThey never had a pot to piss in\\nBody parts on Cavalli dishes\\nOn Mulholland in the drop Porsche wildin\\', my loafers crocodile\\nStylin\\', I be havin\\' greater visions (Ah)\\nYou can tell by the way I whip it\\nYou gettin\\' money, then the haters with it\\nIt ain\\'t dry, I told \\'em wait a minute (Ah)\\nPraise both for the way I did it\\n\\n[Chorus: Billie Essco & Joey Bada$$]\\nI swear Paris will be prayed for (Prayed for)\\nUnreleased Off-White to the ankles, ayy (Ankles)\\nI\\'m in them places that you can\\'t go (That you can\\'t go)\\nDon C, Nigo in the same row, ayy (The same row)\\nI swear Paris will be prayed for\\nI need Casablanca by the caseload (Caseload, Badmon)\\nSilks with the oranges and the mangoes (Mangoes, yeah, yeah, yeah)\\nI\\'m a model now, baby, got the face for it, ayy (Face for it, yeah, yeah, yeah)\\nI swear Paris will be prayed for\\n\\n[Verse 2: Joey Bada$$]\\nI\\'m from an era of hard knocks and quiet storms (Shh)\\nRap songs about crack rocks and firearms (Bah, bah, bah, bah)\\nIn the stash spot on some Money Mitch shit (Woo)\\nAdjust the AC, conceal the biscuit (Yeah)\\nIt\\'s your life, you can choose to risk it if you wanna\\nThese niggas don\\'t want smoke, they want some marijuana\\nI used to get kicked out of class just for my aroma\\nI went to school high, forgot to pick up my diploma (I was high)\\nThat\\'s way back when we used to cypher Arizonas (Uh-huh)\\nNow I\\'m in that Maybach, I\\'m with Puff and Hova (Facts, woo, woo)\\nWe bendin\\' corners in the six-deuce\\nTalk about last night\\'s ten thousand dollar bottles of Pétrus, sip it like it\\'s juice, homie\\nHow could I lose?\\nThe shit that these fools\\'ll do to be in my shoes, I\\'m done playin\\' by rules\\nLearned from OGs, I\\'m retirin\\' the jewels\\nEverything is plain jane, different day, the same thing\\nI mean, it\\'s usual\\nEverything that\\'s new to you be the type of shit I\\'m used to\\nI could give a fuck about the hater shit, I\\'m used to it\\nIf it\\'s fuck me, then know the feeling is mutual (Bitch)\\n\\n[Chorus: Billie Essco & Joey Bada$$]\\nI swear Paris will be prayed for (Prayed for)\\nUnreleased Off-White to the ankles, ayy (It\\'s young Bada$$, ankles)\\nI\\'m in them places that you can\\'t go (Yeah, yeah, yeah, that you can\\'t go)\\nDon C, Nigo, in the same row, ayy (The same row)\\nI swear Paris will be prayed for\\nI need Casablanca by the caseload (Caseload)\\nSilks with the oranges and the mangoes (Mangoes)\\nI\\'m a model now, baby, got the face for it, ayy (Face for it)\\nI swear Paris will be prayed for\\n\\n[Interlude: Tyler, The Creator]\\nIf you feelin\\' good\\nThen everybody say yeah, yeah (Yeah)\\nYeah, yeah (Feelin\\' good)\\nYeah, yeah (I\\'m on my Gunn shit)\\n\\n[Verse 3: Tyler, The Creator]\\nBitch, I\\'m all that, all that, Kenan, Kel (Kel)\\nWhen I walk in, niggas ring the, ring the bells (Bells)\\nRoses at my feet, niggas kneel, bitches yell\\nGlitter on my neck match the glitter on my fingernails (Ayy, yo)\\nNiggas always got something to say, well fuck \\'em\\nSame guys was mighty \\'til they got to duckin\\'\\nWe got the pucks and we chuckin\\'\\nThey playin\\' chicken, we cluckin\\'\\nI\\'m Colonel Sanders to you motherfuckers\\nNiggas trash and we dumpin\\' (Uh), I been rappin\\' and fuckin\\' (Yup)\\nHe 6\\'5\", I\\'m a munchkin, and we speed to the disco (Dance)\\nThis car came with a driver, I\\'m in the back playin\\' \"Frontin\\'\"\\nI ain\\'t cryin\\', the wind is flyin\\', stop makin\\' assumptions\\nI ain\\'t lyin\\' or nothin\\'\\nYes, I\\'m is, I\\'m so happy\\nI turned nothin\\' to somethin\\', skin glowin\\', my hair nappy\\nMy health good, my mama good, my niggas too\\nAnd they only wanna have good times like Josh Safdie\\nWe eat good, long way from Maccas burgers\\nLong way from that metro bus taxi service\\nLong way, loco gangs tried to taxidermy (Where you from, nigga?)\\nWe would run until our motherfuckin\\' backs was burnin\\', uh\\nBut anyway, the shorts short and the socks high\\nAnd the emeralds shinin\\', them GQs and them pot pies (Bling)\\nAnd I spy with my private eye that you tried\\nYou cannot pull this look off, nigga, you\\'re not I\\n\\n[Chorus: Billie Essco]\\nI swear Paris will be prayed for (Prayed for)\\nUnreleased Off-White to the ankles, ayy (Ankles)\\nI\\'m in them places that you can\\'t go (That you can\\'t go)\\nDon C, Nigo, in the same row, ayy (The same row)\\nI swear Paris will be prayed for\\nI need Casablanca by the caseload (Caseload)\\nSilks with the oranges and the mangoes (Mangoes)\\nI\\'m a model now, baby, got the face for it, ayy (Face for it)\\nI swear Paris will be prayed for (Prayed for)'"
      ]
     },
     "execution_count": 13,
     "metadata": {},
     "output_type": "execute_result"
    }
   ],
   "source": [
    "#Take a look at lyrics for 327\n",
    "data_df.Lyrics['327']"
   ]
  },
  {
   "cell_type": "code",
   "execution_count": 14,
   "metadata": {},
   "outputs": [],
   "source": [
    "#Apply first text cleaning technique\n",
    "import re\n",
    "import string\n",
    "\n",
    "def lowercase_text_1(text):\n",
    "    text=text.lower()\n",
    "    text = re.sub('\\[.*?\\]', '', text)\n",
    "    text = re.sub('[%s]' % re.escape(string.punctuation), '', text)\n",
    "    text = re.sub('\\w*\\d\\w*', '', text)\n",
    "    return text\n",
    "round1 = lambda x: lowercase_text_1(x)\n",
    "\n"
   ]
  },
  {
   "cell_type": "code",
   "execution_count": 15,
   "metadata": {},
   "outputs": [
    {
     "data": {
      "text/html": [
       "<div>\n",
       "<style scoped>\n",
       "    .dataframe tbody tr th:only-of-type {\n",
       "        vertical-align: middle;\n",
       "    }\n",
       "\n",
       "    .dataframe tbody tr th {\n",
       "        vertical-align: top;\n",
       "    }\n",
       "\n",
       "    .dataframe thead th {\n",
       "        text-align: right;\n",
       "    }\n",
       "</style>\n",
       "<table border=\"1\" class=\"dataframe\">\n",
       "  <thead>\n",
       "    <tr style=\"text-align: right;\">\n",
       "      <th></th>\n",
       "      <th>Lyrics</th>\n",
       "    </tr>\n",
       "  </thead>\n",
       "  <tbody>\n",
       "    <tr>\n",
       "      <th>327</th>\n",
       "      <td>\\nlook i swear paris will be prayed for prayed for\\nunreleased offwhite to the ankles ayy ankles\\nim in them places ...</td>\n",
       "    </tr>\n",
       "    <tr>\n",
       "      <th>Block Party</th>\n",
       "      <td>\\nstatik selektah\\nevery time i hear a dope bass line\\nsmell some good weed and charcoal on the grill\\nshit just tak...</td>\n",
       "    </tr>\n",
       "    <tr>\n",
       "      <th>Dangerookipawaa freestyle</th>\n",
       "      <td>\\n\\n\\nyeah\\nyeah\\nyeah ayy man listen\\n\\n\\nsoulo hold a prophecy i got a premonition yeah\\nima let the beat build an...</td>\n",
       "    </tr>\n",
       "    <tr>\n",
       "      <th>I like it</th>\n",
       "      <td>\\nyeah baby i like it like that\\nyou gotta believe me when i tell you\\ni said i like it like that\\nyou gotta believe...</td>\n",
       "    </tr>\n",
       "    <tr>\n",
       "      <th>Leader of Delinquents</th>\n",
       "      <td>\\nmm yeah mm mm\\nthis is not a test\\nmm check\\neasy does it please turn my headphones a little bit\\neasy does it yea...</td>\n",
       "    </tr>\n",
       "    <tr>\n",
       "      <th>Old town road</th>\n",
       "      <td>\\noh ohoh\\noh\\n\\n\\nyeah im gonna take my horse to the old town road\\nim gonna ride til i cant no more\\nim gonna take...</td>\n",
       "    </tr>\n",
       "    <tr>\n",
       "      <th>Shape of you</th>\n",
       "      <td>\\nthe club isnt the best place to find a lover\\nso the bar is where i go\\nme and my friends at the table doing shots...</td>\n",
       "    </tr>\n",
       "  </tbody>\n",
       "</table>\n",
       "</div>"
      ],
      "text/plain": [
       "                                                                                                                                            Lyrics\n",
       "327                        \\nlook i swear paris will be prayed for prayed for\\nunreleased offwhite to the ankles ayy ankles\\nim in them places ...\n",
       "Block Party                \\nstatik selektah\\nevery time i hear a dope bass line\\nsmell some good weed and charcoal on the grill\\nshit just tak...\n",
       "Dangerookipawaa freestyle  \\n\\n\\nyeah\\nyeah\\nyeah ayy man listen\\n\\n\\nsoulo hold a prophecy i got a premonition yeah\\nima let the beat build an...\n",
       "I like it                  \\nyeah baby i like it like that\\nyou gotta believe me when i tell you\\ni said i like it like that\\nyou gotta believe...\n",
       "Leader of Delinquents      \\nmm yeah mm mm\\nthis is not a test\\nmm check\\neasy does it please turn my headphones a little bit\\neasy does it yea...\n",
       "Old town road              \\noh ohoh\\noh\\n\\n\\nyeah im gonna take my horse to the old town road\\nim gonna ride til i cant no more\\nim gonna take...\n",
       "Shape of you               \\nthe club isnt the best place to find a lover\\nso the bar is where i go\\nme and my friends at the table doing shots..."
      ]
     },
     "execution_count": 15,
     "metadata": {},
     "output_type": "execute_result"
    }
   ],
   "source": [
    "#take a look at it \n",
    "data_clean = pd.DataFrame(data_df.Lyrics.apply(round1))\n",
    "data_clean"
   ]
  },
  {
   "cell_type": "code",
   "execution_count": 16,
   "metadata": {},
   "outputs": [
    {
     "data": {
      "text/html": [
       "<div>\n",
       "<style scoped>\n",
       "    .dataframe tbody tr th:only-of-type {\n",
       "        vertical-align: middle;\n",
       "    }\n",
       "\n",
       "    .dataframe tbody tr th {\n",
       "        vertical-align: top;\n",
       "    }\n",
       "\n",
       "    .dataframe thead th {\n",
       "        text-align: right;\n",
       "    }\n",
       "</style>\n",
       "<table border=\"1\" class=\"dataframe\">\n",
       "  <thead>\n",
       "    <tr style=\"text-align: right;\">\n",
       "      <th></th>\n",
       "      <th>Lyrics</th>\n",
       "    </tr>\n",
       "  </thead>\n",
       "  <tbody>\n",
       "    <tr>\n",
       "      <th>327</th>\n",
       "      <td>\\nlook i swear paris will be prayed for prayed for\\nunreleased offwhite to the ankles ayy ankles\\nim in them places ...</td>\n",
       "    </tr>\n",
       "    <tr>\n",
       "      <th>Block Party</th>\n",
       "      <td>\\nstatik selektah\\nevery time i hear a dope bass line\\nsmell some good weed and charcoal on the grill\\nshit just tak...</td>\n",
       "    </tr>\n",
       "    <tr>\n",
       "      <th>Dangerookipawaa freestyle</th>\n",
       "      <td>\\n\\n\\nyeah\\nyeah\\nyeah ayy man listen\\n\\n\\nsoulo hold a prophecy i got a premonition yeah\\nima let the beat build an...</td>\n",
       "    </tr>\n",
       "    <tr>\n",
       "      <th>I like it</th>\n",
       "      <td>\\nyeah baby i like it like that\\nyou gotta believe me when i tell you\\ni said i like it like that\\nyou gotta believe...</td>\n",
       "    </tr>\n",
       "    <tr>\n",
       "      <th>Leader of Delinquents</th>\n",
       "      <td>\\nmm yeah mm mm\\nthis is not a test\\nmm check\\neasy does it please turn my headphones a little bit\\neasy does it yea...</td>\n",
       "    </tr>\n",
       "    <tr>\n",
       "      <th>Old town road</th>\n",
       "      <td>\\noh ohoh\\noh\\n\\n\\nyeah im gonna take my horse to the old town road\\nim gonna ride til i cant no more\\nim gonna take...</td>\n",
       "    </tr>\n",
       "    <tr>\n",
       "      <th>Shape of you</th>\n",
       "      <td>\\nthe club isnt the best place to find a lover\\nso the bar is where i go\\nme and my friends at the table doing shots...</td>\n",
       "    </tr>\n",
       "  </tbody>\n",
       "</table>\n",
       "</div>"
      ],
      "text/plain": [
       "                                                                                                                                            Lyrics\n",
       "327                        \\nlook i swear paris will be prayed for prayed for\\nunreleased offwhite to the ankles ayy ankles\\nim in them places ...\n",
       "Block Party                \\nstatik selektah\\nevery time i hear a dope bass line\\nsmell some good weed and charcoal on the grill\\nshit just tak...\n",
       "Dangerookipawaa freestyle  \\n\\n\\nyeah\\nyeah\\nyeah ayy man listen\\n\\n\\nsoulo hold a prophecy i got a premonition yeah\\nima let the beat build an...\n",
       "I like it                  \\nyeah baby i like it like that\\nyou gotta believe me when i tell you\\ni said i like it like that\\nyou gotta believe...\n",
       "Leader of Delinquents      \\nmm yeah mm mm\\nthis is not a test\\nmm check\\neasy does it please turn my headphones a little bit\\neasy does it yea...\n",
       "Old town road              \\noh ohoh\\noh\\n\\n\\nyeah im gonna take my horse to the old town road\\nim gonna ride til i cant no more\\nim gonna take...\n",
       "Shape of you               \\nthe club isnt the best place to find a lover\\nso the bar is where i go\\nme and my friends at the table doing shots..."
      ]
     },
     "execution_count": 16,
     "metadata": {},
     "output_type": "execute_result"
    }
   ],
   "source": [
    "def clean_text_2(text):\n",
    "    text =re.sub('[\"\"]', '', text)\n",
    "    return text\n",
    "round1 = lambda x: lowercase_text_1(x)\n",
    "\n",
    "#take a look at it \n",
    "data_clean = pd.DataFrame(data_df.Lyrics.apply(round1))\n",
    "data_clean"
   ]
  },
  {
   "cell_type": "markdown",
   "metadata": {},
   "source": [
    "# Corpus, A collection of text"
   ]
  },
  {
   "cell_type": "raw",
   "metadata": {},
   "source": [
    "We have already created a corpus. A corpus is a collection of text, i.e. data_clean in our case. \n",
    "Next, we pickle the corpus for future usage. "
   ]
  },
  {
   "cell_type": "code",
   "execution_count": 17,
   "metadata": {},
   "outputs": [
    {
     "data": {
      "text/html": [
       "<div>\n",
       "<style scoped>\n",
       "    .dataframe tbody tr th:only-of-type {\n",
       "        vertical-align: middle;\n",
       "    }\n",
       "\n",
       "    .dataframe tbody tr th {\n",
       "        vertical-align: top;\n",
       "    }\n",
       "\n",
       "    .dataframe thead th {\n",
       "        text-align: right;\n",
       "    }\n",
       "</style>\n",
       "<table border=\"1\" class=\"dataframe\">\n",
       "  <thead>\n",
       "    <tr style=\"text-align: right;\">\n",
       "      <th></th>\n",
       "      <th>Lyrics</th>\n",
       "    </tr>\n",
       "  </thead>\n",
       "  <tbody>\n",
       "    <tr>\n",
       "      <th>327</th>\n",
       "      <td>\\nlook i swear paris will be prayed for prayed for\\nunreleased offwhite to the ankles ayy ankles\\nim in them places ...</td>\n",
       "    </tr>\n",
       "    <tr>\n",
       "      <th>Block Party</th>\n",
       "      <td>\\nstatik selektah\\nevery time i hear a dope bass line\\nsmell some good weed and charcoal on the grill\\nshit just tak...</td>\n",
       "    </tr>\n",
       "    <tr>\n",
       "      <th>Dangerookipawaa freestyle</th>\n",
       "      <td>\\n\\n\\nyeah\\nyeah\\nyeah ayy man listen\\n\\n\\nsoulo hold a prophecy i got a premonition yeah\\nima let the beat build an...</td>\n",
       "    </tr>\n",
       "    <tr>\n",
       "      <th>I like it</th>\n",
       "      <td>\\nyeah baby i like it like that\\nyou gotta believe me when i tell you\\ni said i like it like that\\nyou gotta believe...</td>\n",
       "    </tr>\n",
       "    <tr>\n",
       "      <th>Leader of Delinquents</th>\n",
       "      <td>\\nmm yeah mm mm\\nthis is not a test\\nmm check\\neasy does it please turn my headphones a little bit\\neasy does it yea...</td>\n",
       "    </tr>\n",
       "    <tr>\n",
       "      <th>Old town road</th>\n",
       "      <td>\\noh ohoh\\noh\\n\\n\\nyeah im gonna take my horse to the old town road\\nim gonna ride til i cant no more\\nim gonna take...</td>\n",
       "    </tr>\n",
       "    <tr>\n",
       "      <th>Shape of you</th>\n",
       "      <td>\\nthe club isnt the best place to find a lover\\nso the bar is where i go\\nme and my friends at the table doing shots...</td>\n",
       "    </tr>\n",
       "  </tbody>\n",
       "</table>\n",
       "</div>"
      ],
      "text/plain": [
       "                                                                                                                                            Lyrics\n",
       "327                        \\nlook i swear paris will be prayed for prayed for\\nunreleased offwhite to the ankles ayy ankles\\nim in them places ...\n",
       "Block Party                \\nstatik selektah\\nevery time i hear a dope bass line\\nsmell some good weed and charcoal on the grill\\nshit just tak...\n",
       "Dangerookipawaa freestyle  \\n\\n\\nyeah\\nyeah\\nyeah ayy man listen\\n\\n\\nsoulo hold a prophecy i got a premonition yeah\\nima let the beat build an...\n",
       "I like it                  \\nyeah baby i like it like that\\nyou gotta believe me when i tell you\\ni said i like it like that\\nyou gotta believe...\n",
       "Leader of Delinquents      \\nmm yeah mm mm\\nthis is not a test\\nmm check\\neasy does it please turn my headphones a little bit\\neasy does it yea...\n",
       "Old town road              \\noh ohoh\\noh\\n\\n\\nyeah im gonna take my horse to the old town road\\nim gonna ride til i cant no more\\nim gonna take...\n",
       "Shape of you               \\nthe club isnt the best place to find a lover\\nso the bar is where i go\\nme and my friends at the table doing shots..."
      ]
     },
     "execution_count": 17,
     "metadata": {},
     "output_type": "execute_result"
    }
   ],
   "source": [
    "# A look at our data\n",
    "data_clean"
   ]
  },
  {
   "cell_type": "code",
   "execution_count": 18,
   "metadata": {},
   "outputs": [
    {
     "data": {
      "text/html": [
       "<div>\n",
       "<style scoped>\n",
       "    .dataframe tbody tr th:only-of-type {\n",
       "        vertical-align: middle;\n",
       "    }\n",
       "\n",
       "    .dataframe tbody tr th {\n",
       "        vertical-align: top;\n",
       "    }\n",
       "\n",
       "    .dataframe thead th {\n",
       "        text-align: right;\n",
       "    }\n",
       "</style>\n",
       "<table border=\"1\" class=\"dataframe\">\n",
       "  <thead>\n",
       "    <tr style=\"text-align: right;\">\n",
       "      <th></th>\n",
       "      <th>Lyrics</th>\n",
       "    </tr>\n",
       "  </thead>\n",
       "  <tbody>\n",
       "    <tr>\n",
       "      <th>327</th>\n",
       "      <td>[Chorus: Billie Essco &amp; Westside Gunn]\\nLook, I swear Paris will be prayed for (Prayed for)\\nUnreleased Off-White to...</td>\n",
       "    </tr>\n",
       "    <tr>\n",
       "      <th>Block Party</th>\n",
       "      <td>[Intro: CJ Fly]\\nStatik Selektah\\nEvery time I hear a dope bass line\\nSmell some good weed and charcoal on the grill...</td>\n",
       "    </tr>\n",
       "    <tr>\n",
       "      <th>Dangerookipawaa freestyle</th>\n",
       "      <td>[Part I]\\n\\n[Intro]\\nYeah\\nYeah\\nYeah, ayy, man, listen\\n\\n[Verse 1]\\nSoulo hold a prophecy, I got a premonition (Ye...</td>\n",
       "    </tr>\n",
       "    <tr>\n",
       "      <th>I like it</th>\n",
       "      <td>[Intro]\\nYeah baby, I like it like that\\nYou gotta believe me when I tell you\\nI said I like it like that\\nYou gotta...</td>\n",
       "    </tr>\n",
       "    <tr>\n",
       "      <th>Leader of Delinquents</th>\n",
       "      <td>[Intro]\\nMm (Yeah), mm, mm\\n(This is not a test)\\nMm (Check)\\nEasy does it (Please turn my headphones a little bit)\\...</td>\n",
       "    </tr>\n",
       "    <tr>\n",
       "      <th>Old town road</th>\n",
       "      <td>[Intro: Billy Ray Cyrus]\\nOh, oh-oh\\nOh\\n\\n[Refrain: Billy Ray Cyrus]\\nYeah, I'm gonna take my horse to the old town...</td>\n",
       "    </tr>\n",
       "    <tr>\n",
       "      <th>Shape of you</th>\n",
       "      <td>[Verse 1]\\nThe club isn't the best place to find a lover\\nSo the bar is where I go\\nMe and my friends at the table d...</td>\n",
       "    </tr>\n",
       "  </tbody>\n",
       "</table>\n",
       "</div>"
      ],
      "text/plain": [
       "                                                                                                                                            Lyrics\n",
       "327                        [Chorus: Billie Essco & Westside Gunn]\\nLook, I swear Paris will be prayed for (Prayed for)\\nUnreleased Off-White to...\n",
       "Block Party                [Intro: CJ Fly]\\nStatik Selektah\\nEvery time I hear a dope bass line\\nSmell some good weed and charcoal on the grill...\n",
       "Dangerookipawaa freestyle  [Part I]\\n\\n[Intro]\\nYeah\\nYeah\\nYeah, ayy, man, listen\\n\\n[Verse 1]\\nSoulo hold a prophecy, I got a premonition (Ye...\n",
       "I like it                  [Intro]\\nYeah baby, I like it like that\\nYou gotta believe me when I tell you\\nI said I like it like that\\nYou gotta...\n",
       "Leader of Delinquents      [Intro]\\nMm (Yeah), mm, mm\\n(This is not a test)\\nMm (Check)\\nEasy does it (Please turn my headphones a little bit)\\...\n",
       "Old town road              [Intro: Billy Ray Cyrus]\\nOh, oh-oh\\nOh\\n\\n[Refrain: Billy Ray Cyrus]\\nYeah, I'm gonna take my horse to the old town...\n",
       "Shape of you               [Verse 1]\\nThe club isn't the best place to find a lover\\nSo the bar is where I go\\nMe and my friends at the table d..."
      ]
     },
     "execution_count": 18,
     "metadata": {},
     "output_type": "execute_result"
    }
   ],
   "source": [
    "# If in case, we want to change the keys of our corpus, we can follow this\n",
    "#full_song = ['327','Block-Party','Dangerookipawa-freestyle','Leader of Delinquets','Shape of you']\n",
    "#data_df['full_song'] = full_song\n",
    "data_df"
   ]
  },
  {
   "cell_type": "code",
   "execution_count": 19,
   "metadata": {},
   "outputs": [],
   "source": [
    "#Pickle corpus for later use \n",
    "data_df.to_pickle(\"corpus1.pkl\")"
   ]
  },
  {
   "cell_type": "markdown",
   "metadata": {},
   "source": [
    "# Document Term Matrix"
   ]
  },
  {
   "cell_type": "raw",
   "metadata": {},
   "source": [
    "In order to employ other techniques that we will be using in this notebook, we need to have text tokenized. Tokenized text is a text which has been broken down into smaller pieces, most common of such technique is to break down a string into words. \n",
    "\n",
    "We acheive this by using scikit-learn's countvectorizer. In it, each row represents a different document and each column represents a different word.  \n",
    "\n",
    "In addition, we will be removing stop words-words which add no meaning to text such as 'a', 'the','an'..."
   ]
  },
  {
   "cell_type": "code",
   "execution_count": 20,
   "metadata": {},
   "outputs": [
    {
     "data": {
      "text/html": [
       "<div>\n",
       "<style scoped>\n",
       "    .dataframe tbody tr th:only-of-type {\n",
       "        vertical-align: middle;\n",
       "    }\n",
       "\n",
       "    .dataframe tbody tr th {\n",
       "        vertical-align: top;\n",
       "    }\n",
       "\n",
       "    .dataframe thead th {\n",
       "        text-align: right;\n",
       "    }\n",
       "</style>\n",
       "<table border=\"1\" class=\"dataframe\">\n",
       "  <thead>\n",
       "    <tr style=\"text-align: right;\">\n",
       "      <th></th>\n",
       "      <th>abu</th>\n",
       "      <th>ac</th>\n",
       "      <th>accent</th>\n",
       "      <th>active</th>\n",
       "      <th>adjust</th>\n",
       "      <th>age</th>\n",
       "      <th>ah</th>\n",
       "      <th>aight</th>\n",
       "      <th>aint</th>\n",
       "      <th>air</th>\n",
       "      <th>...</th>\n",
       "      <th>yeah</th>\n",
       "      <th>yeh</th>\n",
       "      <th>yell</th>\n",
       "      <th>yes</th>\n",
       "      <th>ymca</th>\n",
       "      <th>yo</th>\n",
       "      <th>young</th>\n",
       "      <th>youre</th>\n",
       "      <th>yup</th>\n",
       "      <th>zone</th>\n",
       "    </tr>\n",
       "  </thead>\n",
       "  <tbody>\n",
       "    <tr>\n",
       "      <th>327</th>\n",
       "      <td>0</td>\n",
       "      <td>1</td>\n",
       "      <td>0</td>\n",
       "      <td>0</td>\n",
       "      <td>1</td>\n",
       "      <td>0</td>\n",
       "      <td>4</td>\n",
       "      <td>0</td>\n",
       "      <td>3</td>\n",
       "      <td>0</td>\n",
       "      <td>...</td>\n",
       "      <td>17</td>\n",
       "      <td>0</td>\n",
       "      <td>1</td>\n",
       "      <td>1</td>\n",
       "      <td>0</td>\n",
       "      <td>2</td>\n",
       "      <td>1</td>\n",
       "      <td>1</td>\n",
       "      <td>1</td>\n",
       "      <td>0</td>\n",
       "    </tr>\n",
       "    <tr>\n",
       "      <th>Block Party</th>\n",
       "      <td>0</td>\n",
       "      <td>0</td>\n",
       "      <td>0</td>\n",
       "      <td>0</td>\n",
       "      <td>0</td>\n",
       "      <td>0</td>\n",
       "      <td>2</td>\n",
       "      <td>0</td>\n",
       "      <td>1</td>\n",
       "      <td>0</td>\n",
       "      <td>...</td>\n",
       "      <td>0</td>\n",
       "      <td>0</td>\n",
       "      <td>0</td>\n",
       "      <td>1</td>\n",
       "      <td>0</td>\n",
       "      <td>1</td>\n",
       "      <td>0</td>\n",
       "      <td>0</td>\n",
       "      <td>0</td>\n",
       "      <td>0</td>\n",
       "    </tr>\n",
       "    <tr>\n",
       "      <th>Dangerookipawaa freestyle</th>\n",
       "      <td>1</td>\n",
       "      <td>0</td>\n",
       "      <td>0</td>\n",
       "      <td>0</td>\n",
       "      <td>0</td>\n",
       "      <td>0</td>\n",
       "      <td>0</td>\n",
       "      <td>0</td>\n",
       "      <td>4</td>\n",
       "      <td>1</td>\n",
       "      <td>...</td>\n",
       "      <td>21</td>\n",
       "      <td>0</td>\n",
       "      <td>0</td>\n",
       "      <td>0</td>\n",
       "      <td>1</td>\n",
       "      <td>1</td>\n",
       "      <td>0</td>\n",
       "      <td>0</td>\n",
       "      <td>0</td>\n",
       "      <td>0</td>\n",
       "    </tr>\n",
       "    <tr>\n",
       "      <th>I like it</th>\n",
       "      <td>0</td>\n",
       "      <td>0</td>\n",
       "      <td>1</td>\n",
       "      <td>1</td>\n",
       "      <td>0</td>\n",
       "      <td>0</td>\n",
       "      <td>1</td>\n",
       "      <td>0</td>\n",
       "      <td>0</td>\n",
       "      <td>0</td>\n",
       "      <td>...</td>\n",
       "      <td>2</td>\n",
       "      <td>6</td>\n",
       "      <td>0</td>\n",
       "      <td>0</td>\n",
       "      <td>0</td>\n",
       "      <td>0</td>\n",
       "      <td>0</td>\n",
       "      <td>0</td>\n",
       "      <td>0</td>\n",
       "      <td>0</td>\n",
       "    </tr>\n",
       "    <tr>\n",
       "      <th>Leader of Delinquents</th>\n",
       "      <td>0</td>\n",
       "      <td>0</td>\n",
       "      <td>0</td>\n",
       "      <td>0</td>\n",
       "      <td>0</td>\n",
       "      <td>1</td>\n",
       "      <td>0</td>\n",
       "      <td>1</td>\n",
       "      <td>0</td>\n",
       "      <td>0</td>\n",
       "      <td>...</td>\n",
       "      <td>2</td>\n",
       "      <td>0</td>\n",
       "      <td>0</td>\n",
       "      <td>0</td>\n",
       "      <td>0</td>\n",
       "      <td>0</td>\n",
       "      <td>1</td>\n",
       "      <td>0</td>\n",
       "      <td>0</td>\n",
       "      <td>1</td>\n",
       "    </tr>\n",
       "    <tr>\n",
       "      <th>Old town road</th>\n",
       "      <td>0</td>\n",
       "      <td>0</td>\n",
       "      <td>0</td>\n",
       "      <td>0</td>\n",
       "      <td>0</td>\n",
       "      <td>0</td>\n",
       "      <td>0</td>\n",
       "      <td>0</td>\n",
       "      <td>1</td>\n",
       "      <td>0</td>\n",
       "      <td>...</td>\n",
       "      <td>3</td>\n",
       "      <td>0</td>\n",
       "      <td>0</td>\n",
       "      <td>0</td>\n",
       "      <td>0</td>\n",
       "      <td>0</td>\n",
       "      <td>0</td>\n",
       "      <td>0</td>\n",
       "      <td>0</td>\n",
       "      <td>0</td>\n",
       "    </tr>\n",
       "    <tr>\n",
       "      <th>Shape of you</th>\n",
       "      <td>0</td>\n",
       "      <td>0</td>\n",
       "      <td>0</td>\n",
       "      <td>0</td>\n",
       "      <td>0</td>\n",
       "      <td>0</td>\n",
       "      <td>0</td>\n",
       "      <td>0</td>\n",
       "      <td>0</td>\n",
       "      <td>0</td>\n",
       "      <td>...</td>\n",
       "      <td>0</td>\n",
       "      <td>0</td>\n",
       "      <td>0</td>\n",
       "      <td>0</td>\n",
       "      <td>0</td>\n",
       "      <td>0</td>\n",
       "      <td>0</td>\n",
       "      <td>0</td>\n",
       "      <td>0</td>\n",
       "      <td>0</td>\n",
       "    </tr>\n",
       "  </tbody>\n",
       "</table>\n",
       "<p>7 rows × 1010 columns</p>\n",
       "</div>"
      ],
      "text/plain": [
       "                           abu  ac  accent  active  adjust  age  ah  aight  \\\n",
       "327                          0   1       0       0       1    0   4      0   \n",
       "Block Party                  0   0       0       0       0    0   2      0   \n",
       "Dangerookipawaa freestyle    1   0       0       0       0    0   0      0   \n",
       "I like it                    0   0       1       1       0    0   1      0   \n",
       "Leader of Delinquents        0   0       0       0       0    1   0      1   \n",
       "Old town road                0   0       0       0       0    0   0      0   \n",
       "Shape of you                 0   0       0       0       0    0   0      0   \n",
       "\n",
       "                           aint  air  ...  yeah  yeh  yell  yes  ymca  yo  \\\n",
       "327                           3    0  ...    17    0     1    1     0   2   \n",
       "Block Party                   1    0  ...     0    0     0    1     0   1   \n",
       "Dangerookipawaa freestyle     4    1  ...    21    0     0    0     1   1   \n",
       "I like it                     0    0  ...     2    6     0    0     0   0   \n",
       "Leader of Delinquents         0    0  ...     2    0     0    0     0   0   \n",
       "Old town road                 1    0  ...     3    0     0    0     0   0   \n",
       "Shape of you                  0    0  ...     0    0     0    0     0   0   \n",
       "\n",
       "                           young  youre  yup  zone  \n",
       "327                            1      1    1     0  \n",
       "Block Party                    0      0    0     0  \n",
       "Dangerookipawaa freestyle      0      0    0     0  \n",
       "I like it                      0      0    0     0  \n",
       "Leader of Delinquents          1      0    0     1  \n",
       "Old town road                  0      0    0     0  \n",
       "Shape of you                   0      0    0     0  \n",
       "\n",
       "[7 rows x 1010 columns]"
      ]
     },
     "execution_count": 20,
     "metadata": {},
     "output_type": "execute_result"
    }
   ],
   "source": [
    "#creating document term matrix using countvectorizer\n",
    "from sklearn.feature_extraction.text import CountVectorizer\n",
    "cv= CountVectorizer(stop_words='english')\n",
    "data_cv= cv.fit_transform(data_clean.Lyrics)\n",
    "data_dtm=pd.DataFrame(data_cv.toarray(),columns =cv.get_feature_names())\n",
    "data_dtm.index=data_clean.index\n",
    "data_dtm"
   ]
  },
  {
   "cell_type": "code",
   "execution_count": 21,
   "metadata": {},
   "outputs": [],
   "source": [
    "#pickle DTM for later use\n",
    "data_dtm.to_pickle(\"dtm.pkl\")"
   ]
  },
  {
   "cell_type": "code",
   "execution_count": 22,
   "metadata": {},
   "outputs": [],
   "source": [
    "#pickle clean data, before we put it into a document term matrix\n",
    "data_clean.to_pickle('data_clean.pkl')\n",
    "pickle.dump(cv, open(\"cv.pkl\", \"wb\"))"
   ]
  }
 ],
 "metadata": {
  "kernelspec": {
   "display_name": "Python 3",
   "language": "python",
   "name": "python3"
  },
  "language_info": {
   "codemirror_mode": {
    "name": "ipython",
    "version": 3
   },
   "file_extension": ".py",
   "mimetype": "text/x-python",
   "name": "python",
   "nbconvert_exporter": "python",
   "pygments_lexer": "ipython3",
   "version": "3.7.6"
  }
 },
 "nbformat": 4,
 "nbformat_minor": 4
}
